{
 "cells": [
  {
   "cell_type": "markdown",
   "metadata": {},
   "source": [
    "# Mineria de Textos - PEC 2"
   ]
  },
  {
   "cell_type": "code",
   "execution_count": 1,
   "metadata": {},
   "outputs": [],
   "source": [
    "# Libraries\n",
    "import numpy as np\n",
    "import pandas as pd\n",
    "import re\n",
    "import spacy\n",
    "import matplotlib.pyplot as plt"
   ]
  },
  {
   "cell_type": "markdown",
   "metadata": {},
   "source": [
    "# Data Preparation"
   ]
  },
  {
   "cell_type": "markdown",
   "metadata": {},
   "source": [
    "We iterate through all 7 subfolders, extracting the path of each one, and the names of each of the files. All such files have an associated label generated while iterating."
   ]
  },
  {
   "cell_type": "code",
   "execution_count": 2,
   "metadata": {},
   "outputs": [],
   "source": [
    "import os\n",
    "\n",
    "# Specify the folder path\n",
    "folder_path = './Corpus-Clustering/'\n",
    "\n",
    "# Global Variables\n",
    "counter = 0\n",
    "all_paths = []\n",
    "all_files = []\n",
    "all_labels = []\n",
    "\n",
    "# Iterate through the files and subfolders\n",
    "for root, _, files in os.walk(folder_path):\n",
    "  if counter != 0: # Skipping first folder in mac OS (.DSstore)\n",
    "    all_files.extend(files)\n",
    "    all_paths.append(root)\n",
    "    labels = counter*np.ones(len(files))\n",
    "    all_labels = np.concatenate((all_labels, labels))\n",
    "  counter += 1"
   ]
  },
  {
   "cell_type": "markdown",
   "metadata": {},
   "source": [
    "# Pre-processing"
   ]
  },
  {
   "cell_type": "code",
   "execution_count": 3,
   "metadata": {},
   "outputs": [],
   "source": [
    "# Choosing one document to see how it changes at eavh stage\n",
    "sample_id = 410"
   ]
  },
  {
   "cell_type": "markdown",
   "metadata": {},
   "source": [
    "## Remove Headers\n",
    "- Split text into chunks where there are AT LEAST 2 consecutive new line characters.\n",
    "- Then eliminate the first chunk, which corresponds to the header of the file.\n",
    "- Eliminate symbols \"<\" and \">\".\n",
    "- Remove emails\n",
    "- Keep only words and numbers\n",
    "- Make everything lower case"
   ]
  },
  {
   "cell_type": "code",
   "execution_count": 4,
   "metadata": {},
   "outputs": [],
   "source": [
    "def preprocessing(file_path):\n",
    "  with open(file_path, \"r\") as file:\n",
    "    text = file.read()\n",
    "    pattern = r\"\\n\\s*\\n\" # See https://regex101.com\n",
    "    split_text_chunks = re.split(pattern, text)  # Regex pattern\n",
    "    if split_text_chunks:\n",
    "      split_text = split_text_chunks[1:-1] # Original text - header - footer (first and last entries respectively in split list generated)\n",
    "      separator = \"\\n\\n\" # Introducing back at least 1 empty line\n",
    "      new_text = separator.join(split_text).replace(\"<\", \"\").replace(\">\", \"\") # Joining into a whole text (str)\n",
    "      # Remove emails\n",
    "      email_pattern = r\"[\\w\\.-]+@[\\w\\.-]+\\.\\w{2,}\"  # Matches common email formats\n",
    "      clean_text = re.sub(email_pattern, \"\", new_text)\n",
    "      # Matching non-words and replacing them with empty strings\n",
    "      clean_text = re.sub(r\"[^a-zA-Z0-9\\s]\", \"\", clean_text) #[\\_|=\\[\\]/\\\\,.!?()+\\-;:]\n",
    "      # Make everything lowercase\n",
    "      clean_text = clean_text.lower()\n",
    "      # return new_text\n",
    "      return clean_text\n",
    "  return None\n",
    "\n",
    "# Remove header from all files, and save in corpus variable:\n",
    "preprocessed_corpus = []\n",
    "errors_idx = []\n",
    "for idx, filename in enumerate(all_files):\n",
    "  file_path = f\"{all_paths[int(all_labels[idx] - 1)]}/{filename}\"\n",
    "  try:\n",
    "    text_body = preprocessing(file_path)\n",
    "    preprocessed_corpus.append(text_body)\n",
    "  except:\n",
    "    errors_idx.append(idx)"
   ]
  },
  {
   "cell_type": "code",
   "execution_count": 5,
   "metadata": {},
   "outputs": [],
   "source": [
    "# Calculating stats of a list of strings. Labels also provided\n",
    "def stats_corpus(list_of_strings, labels):\n",
    "  n_words_per_document = []\n",
    "  for string in list_of_strings:\n",
    "    n_words_per_document.append(len(string.split()))\n",
    "\n",
    "  df_corpus_preprocessed = pd.DataFrame({'labels': labels, 'n_words': n_words_per_document})\n",
    "\n",
    "  grouped_stats = df_corpus_preprocessed.groupby('labels').agg(['mean', 'std'])\n",
    "  return round(grouped_stats, 0)\n"
   ]
  },
  {
   "cell_type": "code",
   "execution_count": 6,
   "metadata": {},
   "outputs": [
    {
     "data": {
      "text/html": [
       "<div>\n",
       "<style scoped>\n",
       "    .dataframe tbody tr th:only-of-type {\n",
       "        vertical-align: middle;\n",
       "    }\n",
       "\n",
       "    .dataframe tbody tr th {\n",
       "        vertical-align: top;\n",
       "    }\n",
       "\n",
       "    .dataframe thead th {\n",
       "        text-align: right;\n",
       "    }\n",
       "</style>\n",
       "<table border=\"1\" class=\"dataframe\">\n",
       "  <thead>\n",
       "    <tr style=\"text-align: right;\">\n",
       "      <th></th>\n",
       "      <th>folder_name</th>\n",
       "      <th>label</th>\n",
       "      <th>n_docs</th>\n",
       "    </tr>\n",
       "  </thead>\n",
       "  <tbody>\n",
       "    <tr>\n",
       "      <th>1.0</th>\n",
       "      <td>./Corpus-Clustering/talk.politics.mideast</td>\n",
       "      <td>1</td>\n",
       "      <td>72</td>\n",
       "    </tr>\n",
       "    <tr>\n",
       "      <th>2.0</th>\n",
       "      <td>./Corpus-Clustering/rec.autos</td>\n",
       "      <td>2</td>\n",
       "      <td>61</td>\n",
       "    </tr>\n",
       "    <tr>\n",
       "      <th>3.0</th>\n",
       "      <td>./Corpus-Clustering/comp.sys.mac.hardware</td>\n",
       "      <td>3</td>\n",
       "      <td>146</td>\n",
       "    </tr>\n",
       "    <tr>\n",
       "      <th>4.0</th>\n",
       "      <td>./Corpus-Clustering/rec.sport.hockey</td>\n",
       "      <td>4</td>\n",
       "      <td>50</td>\n",
       "    </tr>\n",
       "    <tr>\n",
       "      <th>5.0</th>\n",
       "      <td>./Corpus-Clustering/comp.sys.ibm.pc.hardware</td>\n",
       "      <td>5</td>\n",
       "      <td>124</td>\n",
       "    </tr>\n",
       "    <tr>\n",
       "      <th>6.0</th>\n",
       "      <td>./Corpus-Clustering/sci.electronics</td>\n",
       "      <td>6</td>\n",
       "      <td>211</td>\n",
       "    </tr>\n",
       "    <tr>\n",
       "      <th>7.0</th>\n",
       "      <td>./Corpus-Clustering/talk.politics.guns</td>\n",
       "      <td>7</td>\n",
       "      <td>141</td>\n",
       "    </tr>\n",
       "  </tbody>\n",
       "</table>\n",
       "</div>"
      ],
      "text/plain": [
       "                                      folder_name  label  n_docs\n",
       "1.0     ./Corpus-Clustering/talk.politics.mideast      1      72\n",
       "2.0                 ./Corpus-Clustering/rec.autos      2      61\n",
       "3.0     ./Corpus-Clustering/comp.sys.mac.hardware      3     146\n",
       "4.0          ./Corpus-Clustering/rec.sport.hockey      4      50\n",
       "5.0  ./Corpus-Clustering/comp.sys.ibm.pc.hardware      5     124\n",
       "6.0           ./Corpus-Clustering/sci.electronics      6     211\n",
       "7.0        ./Corpus-Clustering/talk.politics.guns      7     141"
      ]
     },
     "execution_count": 6,
     "metadata": {},
     "output_type": "execute_result"
    }
   ],
   "source": [
    "# All folder\n",
    "pd.DataFrame({'folder_name': all_paths, 'label': [1, 2, 3, 4, 5, 6, 7], 'n_docs': pd.Series(all_labels).value_counts().sort_index()})"
   ]
  },
  {
   "cell_type": "code",
   "execution_count": 7,
   "metadata": {},
   "outputs": [
    {
     "data": {
      "text/html": [
       "<div>\n",
       "<style scoped>\n",
       "    .dataframe tbody tr th:only-of-type {\n",
       "        vertical-align: middle;\n",
       "    }\n",
       "\n",
       "    .dataframe tbody tr th {\n",
       "        vertical-align: top;\n",
       "    }\n",
       "\n",
       "    .dataframe thead tr th {\n",
       "        text-align: left;\n",
       "    }\n",
       "\n",
       "    .dataframe thead tr:last-of-type th {\n",
       "        text-align: right;\n",
       "    }\n",
       "</style>\n",
       "<table border=\"1\" class=\"dataframe\">\n",
       "  <thead>\n",
       "    <tr>\n",
       "      <th></th>\n",
       "      <th colspan=\"2\" halign=\"left\">n_words</th>\n",
       "    </tr>\n",
       "    <tr>\n",
       "      <th></th>\n",
       "      <th>mean</th>\n",
       "      <th>std</th>\n",
       "    </tr>\n",
       "    <tr>\n",
       "      <th>labels</th>\n",
       "      <th></th>\n",
       "      <th></th>\n",
       "    </tr>\n",
       "  </thead>\n",
       "  <tbody>\n",
       "    <tr>\n",
       "      <th>1.0</th>\n",
       "      <td>630.0</td>\n",
       "      <td>1291.0</td>\n",
       "    </tr>\n",
       "    <tr>\n",
       "      <th>2.0</th>\n",
       "      <td>150.0</td>\n",
       "      <td>165.0</td>\n",
       "    </tr>\n",
       "    <tr>\n",
       "      <th>3.0</th>\n",
       "      <td>119.0</td>\n",
       "      <td>107.0</td>\n",
       "    </tr>\n",
       "    <tr>\n",
       "      <th>4.0</th>\n",
       "      <td>209.0</td>\n",
       "      <td>262.0</td>\n",
       "    </tr>\n",
       "    <tr>\n",
       "      <th>5.0</th>\n",
       "      <td>179.0</td>\n",
       "      <td>367.0</td>\n",
       "    </tr>\n",
       "    <tr>\n",
       "      <th>6.0</th>\n",
       "      <td>202.0</td>\n",
       "      <td>797.0</td>\n",
       "    </tr>\n",
       "    <tr>\n",
       "      <th>7.0</th>\n",
       "      <td>325.0</td>\n",
       "      <td>382.0</td>\n",
       "    </tr>\n",
       "  </tbody>\n",
       "</table>\n",
       "</div>"
      ],
      "text/plain": [
       "       n_words        \n",
       "          mean     std\n",
       "labels                \n",
       "1.0      630.0  1291.0\n",
       "2.0      150.0   165.0\n",
       "3.0      119.0   107.0\n",
       "4.0      209.0   262.0\n",
       "5.0      179.0   367.0\n",
       "6.0      202.0   797.0\n",
       "7.0      325.0   382.0"
      ]
     },
     "execution_count": 7,
     "metadata": {},
     "output_type": "execute_result"
    }
   ],
   "source": [
    "# Creating X and y:\n",
    "X_preprocessed = preprocessed_corpus\n",
    "y = all_labels\n",
    "stats_corpus(X_preprocessed, y)"
   ]
  },
  {
   "cell_type": "markdown",
   "metadata": {},
   "source": [
    "Inspecting one entry (document) of the corpus before preprocessing:"
   ]
  },
  {
   "cell_type": "code",
   "execution_count": 8,
   "metadata": {},
   "outputs": [
    {
     "name": "stdout",
     "output_type": "stream",
     "text": [
      "Newsgroups: comp.sys.ibm.pc.hardware\n",
      "Path: cantaloupe.srv.cs.cmu.edu!crabapple.srv.cs.cmu.edu!fs7.ece.cmu.edu!europa.eng.gtefsd.com!howland.reston.ans.net!wupost!uunet!mcsun!sun4nl!kubds1.kub.nl!volkert\n",
      "From: volkert@kub.nl (Volkert)\n",
      "Subject: RE: 80486DX-50 vs 80586DX2-50\n",
      "Message-ID: <1993Apr06.121342.25130@kub.nl>\n",
      "Date: Tue, 06 Apr 93 12:13:42 GMT\n",
      "Organization: Tilburg University, Tilburg, The Netherlands\n",
      "Nntp-Posting-Host: itkdsh.kub.nl\n",
      "Lines: 19\n",
      "\n",
      "-------------------------------------------------------------------------\n",
      "Anonymous,\n",
      "\n",
      "I saw a posting about the choice between 80486DX-50 and a 80486DX2-50.\n",
      "I was wondering: although a DX-50 is faster because of the path to it's\n",
      "external cache, shouldn't the choice be the DX2-50 as that one can be\n",
      "made to work properly with a local-bus? I mean, cache speed is one thing,\n",
      "but all your speed will be blocked during video I/O, so just get that\n",
      "faster... \n",
      "I'm willing to speculate that the DX2-50 with local-bus will be 2-4 times \n",
      "as fast as the DX-50 and probably as expensive (or cheap ;-)!\n",
      "\n",
      "regards, JV\n",
      "                                                                /////\n",
      "name:    J-V Meuldijk                                          [ o o ]\n",
      "address: gildelaar 4                                            \\_=_/\n",
      "         4847 hw teteringen                                     _| |_ \n",
      "         holland                  e-mail:  volkert@kub.nl      / \\_/ \\\n",
      "_____________________________________________________________oOOO___OOOo__\n",
      "\n"
     ]
    }
   ],
   "source": [
    "file_path = f\"{all_paths[int(all_labels[sample_id] - 1)]}/{int(all_files[sample_id])}\"\n",
    "with open(file_path, \"r\") as file:\n",
    "    text = file.read()\n",
    "    print(text)"
   ]
  },
  {
   "cell_type": "markdown",
   "metadata": {},
   "source": [
    "and after preprocessing:"
   ]
  },
  {
   "cell_type": "code",
   "execution_count": 9,
   "metadata": {},
   "outputs": [
    {
     "name": "stdout",
     "output_type": "stream",
     "text": [
      "\n",
      "anonymous\n",
      "\n",
      "i saw a posting about the choice between 80486dx50 and a 80486dx250\n",
      "i was wondering although a dx50 is faster because of the path to its\n",
      "external cache shouldnt the choice be the dx250 as that one can be\n",
      "made to work properly with a localbus i mean cache speed is one thing\n",
      "but all your speed will be blocked during video io so just get that\n",
      "faster \n",
      "im willing to speculate that the dx250 with localbus will be 24 times \n",
      "as fast as the dx50 and probably as expensive or cheap \n"
     ]
    }
   ],
   "source": [
    "sample_doc = preprocessed_corpus[sample_id]\n",
    "print(sample_doc)"
   ]
  },
  {
   "cell_type": "markdown",
   "metadata": {},
   "source": [
    "## Tokenization, Lemmatization, and Stop-Word removal"
   ]
  },
  {
   "cell_type": "code",
   "execution_count": 10,
   "metadata": {},
   "outputs": [],
   "source": [
    "# Using Spacy's Large English Model\n",
    "nlp = spacy.load(\"en_core_web_lg\")\n",
    "def spacy_tokenizer(text):\n",
    "    doc = nlp(text)\n",
    "    tokens = [token.lemma_ for token in doc if not token.is_stop]  # Lemmatize and remove stop words\n",
    "    return ' '.join(tokens)\n"
   ]
  },
  {
   "cell_type": "code",
   "execution_count": 11,
   "metadata": {},
   "outputs": [
    {
     "name": "stdout",
     "output_type": "stream",
     "text": [
      "\n",
      " anonymous \n",
      "\n",
      " see posting choice 80486dx50 80486dx250 \n",
      " wonder dx50 fast path \n",
      " external cache not choice dx250 \n",
      " work properly localbus mean cache speed thing \n",
      " speed block video io \n",
      " fast \n",
      " m willing speculate dx250 localbus 24 time \n",
      " fast dx50 probably expensive cheap\n"
     ]
    }
   ],
   "source": [
    "print(spacy_tokenizer(sample_doc))"
   ]
  },
  {
   "cell_type": "code",
   "execution_count": 12,
   "metadata": {},
   "outputs": [],
   "source": [
    "X = [spacy_tokenizer(document) for document in X_preprocessed]"
   ]
  },
  {
   "cell_type": "markdown",
   "metadata": {},
   "source": [
    "One last cleaning of the data. Since the tokens are the lemmas for the words in the documents, and knowing the three following words/lemmas appear too often accross all documents, but do not provide any value to identify each group: \"not\", \"article\", \"write\"."
   ]
  },
  {
   "cell_type": "code",
   "execution_count": 13,
   "metadata": {},
   "outputs": [],
   "source": [
    "def cleaning_lemmas(corpus):\n",
    "  clean_corpus = []\n",
    "  for doc in corpus:\n",
    "    clean_doc = re.sub((r\"(not|write|article)\"), \"\", doc)\n",
    "    clean_corpus.append(clean_doc)\n",
    "  return clean_corpus\n",
    "\n",
    "X = cleaning_lemmas(X)"
   ]
  },
  {
   "cell_type": "code",
   "execution_count": 14,
   "metadata": {},
   "outputs": [
    {
     "data": {
      "text/html": [
       "<div>\n",
       "<style scoped>\n",
       "    .dataframe tbody tr th:only-of-type {\n",
       "        vertical-align: middle;\n",
       "    }\n",
       "\n",
       "    .dataframe tbody tr th {\n",
       "        vertical-align: top;\n",
       "    }\n",
       "\n",
       "    .dataframe thead tr th {\n",
       "        text-align: left;\n",
       "    }\n",
       "\n",
       "    .dataframe thead tr:last-of-type th {\n",
       "        text-align: right;\n",
       "    }\n",
       "</style>\n",
       "<table border=\"1\" class=\"dataframe\">\n",
       "  <thead>\n",
       "    <tr>\n",
       "      <th></th>\n",
       "      <th colspan=\"2\" halign=\"left\">n_words</th>\n",
       "    </tr>\n",
       "    <tr>\n",
       "      <th></th>\n",
       "      <th>mean</th>\n",
       "      <th>std</th>\n",
       "    </tr>\n",
       "    <tr>\n",
       "      <th>labels</th>\n",
       "      <th></th>\n",
       "      <th></th>\n",
       "    </tr>\n",
       "  </thead>\n",
       "  <tbody>\n",
       "    <tr>\n",
       "      <th>1.0</th>\n",
       "      <td>299.0</td>\n",
       "      <td>531.0</td>\n",
       "    </tr>\n",
       "    <tr>\n",
       "      <th>2.0</th>\n",
       "      <td>71.0</td>\n",
       "      <td>74.0</td>\n",
       "    </tr>\n",
       "    <tr>\n",
       "      <th>3.0</th>\n",
       "      <td>55.0</td>\n",
       "      <td>48.0</td>\n",
       "    </tr>\n",
       "    <tr>\n",
       "      <th>4.0</th>\n",
       "      <td>122.0</td>\n",
       "      <td>221.0</td>\n",
       "    </tr>\n",
       "    <tr>\n",
       "      <th>5.0</th>\n",
       "      <td>94.0</td>\n",
       "      <td>243.0</td>\n",
       "    </tr>\n",
       "    <tr>\n",
       "      <th>6.0</th>\n",
       "      <td>98.0</td>\n",
       "      <td>398.0</td>\n",
       "    </tr>\n",
       "    <tr>\n",
       "      <th>7.0</th>\n",
       "      <td>150.0</td>\n",
       "      <td>189.0</td>\n",
       "    </tr>\n",
       "  </tbody>\n",
       "</table>\n",
       "</div>"
      ],
      "text/plain": [
       "       n_words       \n",
       "          mean    std\n",
       "labels               \n",
       "1.0      299.0  531.0\n",
       "2.0       71.0   74.0\n",
       "3.0       55.0   48.0\n",
       "4.0      122.0  221.0\n",
       "5.0       94.0  243.0\n",
       "6.0       98.0  398.0\n",
       "7.0      150.0  189.0"
      ]
     },
     "execution_count": 14,
     "metadata": {},
     "output_type": "execute_result"
    }
   ],
   "source": [
    "stats_corpus(X, y)"
   ]
  },
  {
   "cell_type": "markdown",
   "metadata": {},
   "source": [
    "# Vectorization"
   ]
  },
  {
   "cell_type": "markdown",
   "metadata": {},
   "source": [
    "## TF-IDF"
   ]
  },
  {
   "cell_type": "code",
   "execution_count": 15,
   "metadata": {},
   "outputs": [
    {
     "name": "stdout",
     "output_type": "stream",
     "text": [
      "# Documents: 805, # Features: 2467\n",
      "Non-zero entries: 2.1%\n"
     ]
    }
   ],
   "source": [
    "from sklearn.feature_extraction.text import TfidfVectorizer\n",
    "\n",
    "vectorizer = TfidfVectorizer(\n",
    "    min_df=5,\n",
    "    max_df=0.5,\n",
    ")\n",
    "\n",
    "X_tfidf = vectorizer.fit_transform(X)\n",
    "\n",
    "print(f\"# Documents: {X_tfidf.shape[0]}, # Features: {X_tfidf.shape[1]}\")\n",
    "print(f\"Non-zero entries: {(X_tfidf.nnz / np.prod(X_tfidf.shape))*100:.1f}%\")"
   ]
  },
  {
   "cell_type": "markdown",
   "metadata": {},
   "source": [
    "## Word2Vec"
   ]
  },
  {
   "cell_type": "code",
   "execution_count": 16,
   "metadata": {},
   "outputs": [],
   "source": [
    "from gensim.models import Word2Vec\n",
    "\n",
    "n_dim = 2000\n",
    "w2v_model = Word2Vec(sentences=X, vector_size=n_dim, window=5, min_count=2, sg=1, workers=12)"
   ]
  },
  {
   "cell_type": "code",
   "execution_count": 17,
   "metadata": {},
   "outputs": [],
   "source": [
    "def vectorize(sentence, n_dim):\n",
    "    words = sentence.split()\n",
    "    words_vecs = [w2v_model.wv[word] for word in words if word in w2v_model.wv]\n",
    "    if len(words_vecs) == 0:\n",
    "        return np.zeros(n_dim)\n",
    "    words_vecs = np.array(words_vecs)\n",
    "    return words_vecs.mean(axis=0) # Collapse vectorized words from given document into its average\n",
    "\n",
    "X_w2v = np.array([vectorize(sentence, n_dim) for sentence in X])"
   ]
  },
  {
   "cell_type": "markdown",
   "metadata": {},
   "source": [
    "# Clustering"
   ]
  },
  {
   "cell_type": "markdown",
   "metadata": {},
   "source": [
    "## K-Means"
   ]
  },
  {
   "cell_type": "code",
   "execution_count": 18,
   "metadata": {},
   "outputs": [
    {
     "name": "stderr",
     "output_type": "stream",
     "text": [
      "/Users/gregoryturri/.pyenv/versions/3.12.1/lib/python3.12/site-packages/sklearn/cluster/_kmeans.py:1416: FutureWarning: The default value of `n_init` will change from 10 to 'auto' in 1.4. Set the value of `n_init` explicitly to suppress the warning\n",
      "  super()._check_params_vs_input(X, default_n_init=10)\n"
     ]
    }
   ],
   "source": [
    "from sklearn.cluster import KMeans\n",
    "k = 7\n",
    "kmeans = KMeans(n_clusters=k, random_state=96)\n",
    "y_tfidf_kMeans_pred = kmeans.fit_predict(X_tfidf) + 1"
   ]
  },
  {
   "cell_type": "code",
   "execution_count": 19,
   "metadata": {},
   "outputs": [
    {
     "name": "stderr",
     "output_type": "stream",
     "text": [
      "/Users/gregoryturri/.pyenv/versions/3.12.1/lib/python3.12/site-packages/sklearn/cluster/_kmeans.py:1416: FutureWarning: The default value of `n_init` will change from 10 to 'auto' in 1.4. Set the value of `n_init` explicitly to suppress the warning\n",
      "  super()._check_params_vs_input(X, default_n_init=10)\n"
     ]
    }
   ],
   "source": [
    "k = 7\n",
    "kmeans = KMeans(n_clusters=k, random_state=96)\n",
    "y_w2v_kMeans_pred = kmeans.fit_predict(X_w2v) + 1"
   ]
  },
  {
   "cell_type": "markdown",
   "metadata": {},
   "source": [
    "## DBSCAN"
   ]
  },
  {
   "cell_type": "markdown",
   "metadata": {},
   "source": [
    "Tweak hyperparameters until obtaining known number of clusters = 7 + 1 (noisy group)"
   ]
  },
  {
   "cell_type": "code",
   "execution_count": 20,
   "metadata": {},
   "outputs": [
    {
     "name": "stdout",
     "output_type": "stream",
     "text": [
      "Estimated number of clusters: 8\n",
      "Estimated number of noise points: 0\n"
     ]
    }
   ],
   "source": [
    "from sklearn.cluster import DBSCAN\n",
    "dbscan = DBSCAN(eps=0.6, min_samples=3, n_jobs=-1)\n",
    "dbscan.fit_predict(X_tfidf)\n",
    "\n",
    "# labels = grid_search_dbscan.best_estimator_.labels_\n",
    "y_tfidf_dbscan_pred = dbscan.labels_ + 1\n",
    "\n",
    "# Number of clusters in labels, ignoring noise if present.\n",
    "n_clusters_ = len(set(y_tfidf_dbscan_pred)) - (1 if -1 in y_tfidf_dbscan_pred else 0)\n",
    "n_noise_ = list(y_tfidf_dbscan_pred).count(-1)\n",
    "\n",
    "print(\"Estimated number of clusters: %d\" % n_clusters_)\n",
    "print(\"Estimated number of noise points: %d\" % n_noise_)"
   ]
  },
  {
   "cell_type": "code",
   "execution_count": 21,
   "metadata": {},
   "outputs": [
    {
     "data": {
      "text/plain": [
       "array([0, 1, 2, 3, 4, 5, 6, 7])"
      ]
     },
     "execution_count": 21,
     "metadata": {},
     "output_type": "execute_result"
    }
   ],
   "source": [
    "np.unique(y_tfidf_dbscan_pred)"
   ]
  },
  {
   "cell_type": "code",
   "execution_count": 22,
   "metadata": {},
   "outputs": [
    {
     "name": "stdout",
     "output_type": "stream",
     "text": [
      "Estimated number of clusters: 5\n",
      "Estimated number of noise points: 0\n"
     ]
    }
   ],
   "source": [
    "dbscan = DBSCAN(eps=0.39, min_samples=3, n_jobs=-1)\n",
    "dbscan.fit_predict(X_w2v)\n",
    "\n",
    "# labels = grid_search_dbscan.best_estimator_.labels_\n",
    "y_w2v_dbscan_pred = dbscan.labels_ + 1\n",
    "\n",
    "# Number of clusters in labels, ignoring noise if present.\n",
    "n_clusters_ = len(set(y_w2v_dbscan_pred)) - (1 if -1 in y_w2v_dbscan_pred else 0)\n",
    "n_noise_ = list(y_w2v_dbscan_pred).count(-1)\n",
    "\n",
    "print(\"Estimated number of clusters: %d\" % n_clusters_)\n",
    "print(\"Estimated number of noise points: %d\" % n_noise_)"
   ]
  },
  {
   "cell_type": "code",
   "execution_count": 23,
   "metadata": {},
   "outputs": [
    {
     "data": {
      "text/plain": [
       "array([0, 1, 2, 3, 4])"
      ]
     },
     "execution_count": 23,
     "metadata": {},
     "output_type": "execute_result"
    }
   ],
   "source": [
    "np.unique(y_w2v_dbscan_pred)"
   ]
  },
  {
   "cell_type": "markdown",
   "metadata": {},
   "source": [
    "Masks for later evaluation of the predictions:"
   ]
  },
  {
   "cell_type": "code",
   "execution_count": 24,
   "metadata": {},
   "outputs": [],
   "source": [
    "dbscan_clusters = y_tfidf_dbscan_pred!=0"
   ]
  },
  {
   "cell_type": "markdown",
   "metadata": {},
   "source": [
    "## LDA"
   ]
  },
  {
   "cell_type": "markdown",
   "metadata": {},
   "source": [
    "LDA with sklearn:"
   ]
  },
  {
   "cell_type": "code",
   "execution_count": 25,
   "metadata": {},
   "outputs": [
    {
     "data": {
      "text/plain": [
       "array([[0.01104376, 0.10062621, 0.01076735, ..., 0.01123325, 0.84456542,\n",
       "        0.01082433],\n",
       "       [0.01815687, 0.01815231, 0.018154  , ..., 0.01815351, 0.8910785 ,\n",
       "        0.01815192],\n",
       "       [0.1099688 , 0.010943  , 0.01091097, ..., 0.04599333, 0.80029205,\n",
       "        0.01092759],\n",
       "       ...,\n",
       "       [0.31417578, 0.02911296, 0.0291296 , ..., 0.02911268, 0.54023446,\n",
       "        0.02911289],\n",
       "       [0.04959945, 0.01493647, 0.01493686, ..., 0.01494176, 0.8757145 ,\n",
       "        0.01493442],\n",
       "       [0.0931697 , 0.01510147, 0.04835226, ..., 0.01534013, 0.7977393 ,\n",
       "        0.01515852]])"
      ]
     },
     "execution_count": 25,
     "metadata": {},
     "output_type": "execute_result"
    }
   ],
   "source": [
    "from sklearn.decomposition import LatentDirichletAllocation\n",
    "lda = LatentDirichletAllocation(n_components=7, random_state=42)\n",
    "lda.fit_transform(X_tfidf)"
   ]
  },
  {
   "cell_type": "code",
   "execution_count": 26,
   "metadata": {},
   "outputs": [],
   "source": [
    "# Gensim\n",
    "import gensim\n",
    "import gensim.corpora as corpora"
   ]
  },
  {
   "cell_type": "markdown",
   "metadata": {},
   "source": [
    "LDA needs a dictionary of all words in the corpus. The X_train and X_test sets are stored as a list of strings, where each entry is a unique multiline string with all tokens. Thus, each document (entry) must be split into all tokens before creating the ```gensim.corpora.Dictionary```:"
   ]
  },
  {
   "cell_type": "code",
   "execution_count": 27,
   "metadata": {},
   "outputs": [],
   "source": [
    "X_tokens = [[text for text in doc.split()] for doc in X]"
   ]
  },
  {
   "cell_type": "code",
   "execution_count": 28,
   "metadata": {},
   "outputs": [],
   "source": [
    "dictionary_train = corpora.Dictionary(X_tokens)"
   ]
  },
  {
   "cell_type": "markdown",
   "metadata": {},
   "source": [
    "Creating a Bag-Of-Words representations of the documents:"
   ]
  },
  {
   "cell_type": "code",
   "execution_count": 29,
   "metadata": {},
   "outputs": [],
   "source": [
    "bow_X = [dictionary_train.doc2bow(doc) for doc in X_tokens]"
   ]
  },
  {
   "cell_type": "markdown",
   "metadata": {},
   "source": [
    "This is used to determine the words used to describe each cluster:"
   ]
  },
  {
   "cell_type": "code",
   "execution_count": 30,
   "metadata": {},
   "outputs": [
    {
     "name": "stdout",
     "output_type": "stream",
     "text": [
      "[(0,\n",
      "  '0.007*\"drive\" + 0.005*\"right\" + 0.005*\"1\" + 0.005*\"2\" + 0.004*\"time\" + '\n",
      "  '0.004*\"like\" + 0.004*\"people\" + 0.004*\"think\" + 0.003*\"know\" + '\n",
      "  '0.003*\"look\"'),\n",
      " (1,\n",
      "  '0.005*\"use\" + 0.005*\"right\" + 0.005*\"know\" + 0.004*\"want\" + 0.004*\"like\" + '\n",
      "  '0.003*\"s\" + 0.003*\"good\" + 0.003*\"people\" + 0.003*\"think\" + 0.003*\"ground\"'),\n",
      " (2,\n",
      "  '0.006*\"know\" + 0.006*\"people\" + 0.005*\"like\" + 0.005*\"say\" + 0.004*\"s\" + '\n",
      "  '0.004*\"time\" + 0.004*\"go\" + 0.003*\"gun\" + 0.003*\"m\" + 0.003*\"work\"'),\n",
      " (3,\n",
      "  '0.019*\"1\" + 0.008*\"0\" + 0.006*\"2\" + 0.004*\"people\" + 0.004*\"drive\" + '\n",
      "  '0.004*\"gun\" + 0.004*\"like\" + 0.003*\"know\" + 0.003*\"say\" + 0.003*\"use\"'),\n",
      " (4,\n",
      "  '0.006*\"know\" + 0.005*\"use\" + 0.005*\"people\" + 0.005*\"like\" + 0.004*\"right\" '\n",
      "  '+ 0.004*\"think\" + 0.004*\"card\" + 0.003*\"want\" + 0.003*\"get\" + 0.003*\"need\"'),\n",
      " (5,\n",
      "  '0.005*\"use\" + 0.004*\"drive\" + 0.004*\"work\" + 0.004*\"think\" + 0.004*\"good\" + '\n",
      "  '0.004*\"system\" + 0.004*\"m\" + 0.003*\"know\" + 0.003*\"like\" + 0.003*\"people\"'),\n",
      " (6,\n",
      "  '0.005*\"people\" + 0.005*\"gun\" + 0.005*\"know\" + 0.004*\"m\" + 0.004*\"like\" + '\n",
      "  '0.004*\"1\" + 0.004*\"think\" + 0.004*\"say\" + 0.004*\"drive\" + 0.004*\"right\"')]\n"
     ]
    }
   ],
   "source": [
    "from pprint import pprint\n",
    "# number of topics\n",
    "num_topics = 7\n",
    "# Build LDA model\n",
    "lda_model = gensim.models.LdaMulticore(corpus=bow_X,\n",
    "                                       id2word=dictionary_train,\n",
    "                                       num_topics=num_topics)\n",
    "# Print the Keyword in the 10 topics\n",
    "pprint(lda_model.print_topics())\n",
    "doc_lda = lda_model[bow_X]"
   ]
  },
  {
   "cell_type": "markdown",
   "metadata": {},
   "source": [
    "# Performance Evaluation"
   ]
  },
  {
   "cell_type": "markdown",
   "metadata": {},
   "source": [
    "## Precision, Recall, F1, and Rand Score:"
   ]
  },
  {
   "cell_type": "code",
   "execution_count": 31,
   "metadata": {},
   "outputs": [],
   "source": [
    "from sklearn.metrics import accuracy_score, precision_score, recall_score, f1_score, rand_score\n",
    "\n",
    "def evaluation_metrics(y_true, y_pred):\n",
    "  print('Accuracy:', accuracy_score(y_true, y_pred))\n",
    "  print('Precision:', precision_score(y_true, y_pred, average='weighted'))\n",
    "  print('Recall:', recall_score(y_true, y_pred, average='weighted'))\n",
    "  print('F1 score:', f1_score(y_true, y_pred, average='weighted'))\n",
    "  print('Rand score:', rand_score(y_true, y_pred))"
   ]
  },
  {
   "cell_type": "code",
   "execution_count": 32,
   "metadata": {},
   "outputs": [
    {
     "name": "stdout",
     "output_type": "stream",
     "text": [
      "\n",
      "K-Means (TF-IDF)\n",
      "Accuracy: 0.22608695652173913\n",
      "Precision: 0.2634816099574739\n",
      "Recall: 0.22608695652173913\n",
      "F1 score: 0.2049362429557294\n",
      "Rand score: 0.6424461543215599\n",
      "\n",
      "K-Means (Word2vec)\n",
      "Accuracy: 0.15900621118012423\n",
      "Precision: 0.18355626115609677\n",
      "Recall: 0.15900621118012423\n",
      "F1 score: 0.14324385520045224\n",
      "Rand score: 0.6920830629461389\n",
      "\n",
      "DBSCAN (TF-IDF)\n",
      "Accuracy: 0.3333333333333333\n",
      "Precision: 0.6243386243386243\n",
      "Recall: 0.3333333333333333\n",
      "F1 score: 0.3537928302634185\n",
      "Rand score: 0.5904961565338924\n",
      "\n",
      "DBSCAN (Word2vec)\n",
      "Accuracy: 0.16666666666666666\n",
      "Precision: 0.03996101364522417\n",
      "Recall: 0.16666666666666666\n",
      "F1 score: 0.061937201472085195\n",
      "Rand score: 0.46680642907058\n"
     ]
    },
    {
     "name": "stderr",
     "output_type": "stream",
     "text": [
      "/Users/gregoryturri/.pyenv/versions/3.12.1/lib/python3.12/site-packages/sklearn/metrics/_classification.py:1471: UndefinedMetricWarning: Precision is ill-defined and being set to 0.0 in labels with no predicted samples. Use `zero_division` parameter to control this behavior.\n",
      "  _warn_prf(average, modifier, msg_start, len(result))\n"
     ]
    }
   ],
   "source": [
    "print('\\nK-Means (TF-IDF)')\n",
    "evaluation_metrics(y, y_tfidf_kMeans_pred)\n",
    "print('\\nK-Means (Word2vec)')\n",
    "evaluation_metrics(y, y_w2v_kMeans_pred)\n",
    "print('\\nDBSCAN (TF-IDF)')\n",
    "evaluation_metrics(y[dbscan_clusters], y_tfidf_dbscan_pred[dbscan_clusters])\n",
    "print('\\nDBSCAN (Word2vec)')\n",
    "evaluation_metrics(y[dbscan_clusters], y_w2v_dbscan_pred[dbscan_clusters])"
   ]
  },
  {
   "cell_type": "markdown",
   "metadata": {},
   "source": [
    "## Confusion Matrices"
   ]
  },
  {
   "cell_type": "code",
   "execution_count": 33,
   "metadata": {},
   "outputs": [
    {
     "data": {
      "image/png": "[encoded data removed]",
      "text/plain": [
       "<Figure size 1200x500 with 4 Axes>"
      ]
     },
     "metadata": {},
     "output_type": "display_data"
    }
   ],
   "source": [
    "from sklearn.metrics import ConfusionMatrixDisplay\n",
    "\n",
    "fuente = 10\n",
    "fig, axs = plt.subplots(nrows=1, ncols=2, figsize=(12, 5))\n",
    "\n",
    "plt.rc('font', size=fuente)\n",
    "ConfusionMatrixDisplay.from_predictions(y, y_tfidf_kMeans_pred, ax=axs[0], normalize=\"true\", values_format=\".0%\")\n",
    "axs[0].set_title(\"K Means with TF-IDF Vectorization\")\n",
    "axs[0].tick_params(axis='x', labelsize=6)\n",
    "\n",
    "plt.rc('font', size=fuente)\n",
    "ConfusionMatrixDisplay.from_predictions(y, y_w2v_kMeans_pred, ax=axs[1], normalize=\"true\", values_format=\".0%\")\n",
    "axs[1].set_title(\"K Means with Word2Vec Vectorization\")\n",
    "axs[1].set_yticks([])\n",
    "axs[1].tick_params(axis='x', labelsize=6)\n",
    "\n",
    "plt.show()"
   ]
  },
  {
   "cell_type": "code",
   "execution_count": 34,
   "metadata": {},
   "outputs": [
    {
     "data": {
      "image/png": "[encoded data removed]",
      "text/plain": [
       "<Figure size 1200x500 with 4 Axes>"
      ]
     },
     "metadata": {},
     "output_type": "display_data"
    }
   ],
   "source": [
    "fuente = 10\n",
    "fig, axs = plt.subplots(nrows=1, ncols=2, figsize=(12, 5))\n",
    "\n",
    "plt.rc('font', size=fuente)\n",
    "ConfusionMatrixDisplay.from_predictions(y[dbscan_clusters], y_tfidf_dbscan_pred[dbscan_clusters], ax=axs[0], normalize=\"true\", values_format=\".0%\")\n",
    "axs[0].set_title(\"DBSCAN with TF-IDF Vectorization\")\n",
    "axs[0].tick_params(axis='x', labelsize=6)\n",
    "\n",
    "plt.rc('font', size=fuente)\n",
    "ConfusionMatrixDisplay.from_predictions(y[dbscan_clusters], y_w2v_dbscan_pred[dbscan_clusters], ax=axs[1], normalize=\"true\", values_format=\".0%\")\n",
    "axs[1].set_title(\"DBSCAN with Word2Vec Vectorization\")\n",
    "axs[1].set_yticks([])\n",
    "axs[1].tick_params(axis='x', labelsize=6)\n",
    "\n",
    "plt.show()"
   ]
  },
  {
   "cell_type": "markdown",
   "metadata": {},
   "source": [
    "## Coherence of LDA"
   ]
  },
  {
   "cell_type": "code",
   "execution_count": 35,
   "metadata": {},
   "outputs": [
    {
     "name": "stdout",
     "output_type": "stream",
     "text": [
      "Coherence Score:  0.3746315678332004\n"
     ]
    }
   ],
   "source": [
    "from gensim.models import CoherenceModel\n",
    "\n",
    "# Compute Coherence Score\n",
    "coherence_model_lda = CoherenceModel(model=lda_model, texts=X_tokens, dictionary=dictionary_train, coherence='c_v')\n",
    "coherence_lda = coherence_model_lda.get_coherence()\n",
    "print('Coherence Score: ', coherence_lda)"
   ]
  }
 ],
 "metadata": {
  "kernelspec": {
   "display_name": "Python 3",
   "language": "python",
   "name": "python3"
  },
  "language_info": {
   "codemirror_mode": {
    "name": "ipython",
    "version": 3
   },
   "file_extension": ".py",
   "mimetype": "text/x-python",
   "name": "python",
   "nbconvert_exporter": "python",
   "pygments_lexer": "ipython3",
   "version": "3.12.1"
  }
 },
 "nbformat": 4,
 "nbformat_minor": 2
}
