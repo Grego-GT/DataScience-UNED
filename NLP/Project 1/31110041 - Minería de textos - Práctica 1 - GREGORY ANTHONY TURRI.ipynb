{
  "cells": [
    {
      "cell_type": "code",
      "execution_count": null,
      "metadata": {
        "colab": {
          "base_uri": "https://localhost:8080/"
        },
        "id": "q2GiuWAYVAwv",
        "outputId": "89df859a-6301-44f6-ed34-7f892c428ee1"
      },
      "outputs": [
        {
          "name": "stdout",
          "output_type": "stream",
          "text": [
            "Mounted at /content/drive\n"
          ]
        }
      ],
      "source": [
        "# Mounting drive\n",
        "\n",
        "# from google.colab import drive\n",
        "# drive.mount('/content/drive')"
      ]
    },
    {
      "cell_type": "code",
      "execution_count": null,
      "metadata": {
        "id": "B7Svm1WxWVO0"
      },
      "outputs": [],
      "source": [
        "# Use if running locally\n",
        "folder_path = '.'"
      ]
    },
    {
      "cell_type": "code",
      "execution_count": null,
      "metadata": {
        "id": "fS1L-Ma_OEHt"
      },
      "outputs": [],
      "source": [
        "# Libraries used\n",
        "import spacy\n",
        "import re"
      ]
    },
    {
      "cell_type": "code",
      "execution_count": null,
      "metadata": {
        "colab": {
          "base_uri": "https://localhost:8080/"
        },
        "id": "lt0WyiK9eadk",
        "outputId": "11ccd569-f92d-4690-e91b-7bf13ec980a5"
      },
      "outputs": [],
      "source": [
        "# Downloading the Spacy model\n",
        "# !python -m spacy download es_core_news_sm;\n",
        "!python -m spacy download es_core_news_lg;"
      ]
    },
    {
      "cell_type": "code",
      "execution_count": null,
      "metadata": {
        "id": "0Dx7RGVGdvnB"
      },
      "outputs": [],
      "source": [
        "# Loading model\n",
        "# nlp = spacy.load('es_core_news_sm')\n",
        "nlp = spacy.load('es_core_news_lg')"
      ]
    },
    {
      "cell_type": "code",
      "execution_count": null,
      "metadata": {
        "id": "Wpk6_sFRVBRd"
      },
      "outputs": [],
      "source": [
        "# Loading data as lines\n",
        "with open(f\"{folder_path}/esp.train.txt\", \"r\") as f:\n",
        "  train_lines = f.readlines()\n",
        "with open(f\"{folder_path}/esp.testa.txt\", \"r\") as f:\n",
        "  test_a_lines = f.readlines()\n",
        "with open(f\"{folder_path}/esp.testb.txt\", \"r\") as f:\n",
        "  test_b_lines = f.readlines()"
      ]
    },
    {
      "cell_type": "code",
      "execution_count": null,
      "metadata": {
        "id": "WrDSMmYJq0lM"
      },
      "outputs": [],
      "source": [
        "# Strip out tags from datasets\n",
        "# See: https://regex101.com/\n",
        "\n",
        "# Regex pattern: one or more word characters (\\w+) or one non-word character (\\W).\n",
        "def unTagger(taggedText):\n",
        "  pattern = r\"^(\\w+|\\W)(\\s(.*))\"\n",
        "  untaggedText = []\n",
        "  tag_Text = []\n",
        "  for line in taggedText:\n",
        "      result = re.search(pattern, line)\n",
        "      if result: # Avoids non-matches, such as blank lines\n",
        "        first_word = result.group(1)\n",
        "        tag = result.group(3)\n",
        "        untaggedText.append(first_word)\n",
        "        tag_Text.append(tag)\n",
        "\n",
        "  return untaggedText, tag_Text\n",
        "\n",
        "train_words_unTagged, gold_tags_train = unTagger(train_lines)\n",
        "test_a_words_unTagged, gold_tags_test_a = unTagger(test_a_lines)\n",
        "test_b_words_unTagged, gold_tags_test_b = unTagger(test_b_lines)"
      ]
    },
    {
      "cell_type": "code",
      "execution_count": null,
      "metadata": {
        "id": "xX147KD-vh9n"
      },
      "outputs": [],
      "source": [
        "# Function to convert list of strings into plain text\n",
        "def convert_strList_to_plain_text(list_of_strings):\n",
        "    plain_text = \"\"\n",
        "    for string in list_of_strings:\n",
        "        plain_text += string + \" \"\n",
        "    return plain_text.strip()\n",
        "\n",
        "plain_text_train = convert_strList_to_plain_text(train_words_unTagged)\n",
        "plain_text_test_a = convert_strList_to_plain_text(test_a_words_unTagged)\n",
        "plain_text_test_b = convert_strList_to_plain_text(test_b_words_unTagged)"
      ]
    },
    {
      "cell_type": "code",
      "execution_count": null,
      "metadata": {
        "id": "ix2hvAHuvJkT"
      },
      "outputs": [],
      "source": [
        "# Saving plain texts for inspection\n",
        "with open(f'{folder_path}/plain_text_train.txt', 'w') as f:\n",
        "  f.write(plain_text_train)\n",
        "with open(f'{folder_path}/plain_text_test_a.txt', 'w') as f:\n",
        "  f.write(plain_text_test_a)\n",
        "with open(f'{folder_path}/plain_text_test_b.txt', 'w') as f:\n",
        "  f.write(plain_text_test_b)"
      ]
    },
    {
      "cell_type": "code",
      "execution_count": null,
      "metadata": {
        "id": "Gl91KTeNltFV"
      },
      "outputs": [],
      "source": [
        "# Setting required for long texts\n",
        "nlp.max_length = 30000000"
      ]
    },
    {
      "cell_type": "code",
      "execution_count": null,
      "metadata": {
        "id": "9iYtJB3Qv8oL"
      },
      "outputs": [],
      "source": [
        "# Using loaded Spacy model to tag texts\n",
        "tagged_document_train = nlp(plain_text_train)\n",
        "tagged_document_test_a = nlp(plain_text_test_a)\n",
        "tagged_document_test_b = nlp(plain_text_test_b)"
      ]
    },
    {
      "cell_type": "code",
      "execution_count": null,
      "metadata": {
        "id": "KxaTSBx3v_hy"
      },
      "outputs": [],
      "source": [
        "# Extracting labels from documents tagged by loaded Spacy model\n",
        "def spacyTagger(document):\n",
        "  tags = []\n",
        "  for token in document:\n",
        "    iob_tag = token.ent_iob_\n",
        "    token_type = token.ent_type_\n",
        "    if iob_tag == \"O\":\n",
        "      tags.append(iob_tag)\n",
        "    elif iob_tag == \"B\" or iob_tag == \"I\":\n",
        "      completeTag = iob_tag + \"-\" + token_type\n",
        "      tags.append(completeTag)\n",
        "  return tags"
      ]
    },
    {
      "cell_type": "code",
      "execution_count": null,
      "metadata": {
        "id": "3uB4k7pY8u9-"
      },
      "outputs": [],
      "source": [
        "spacy_tags_train = spacyTagger(tagged_document_train)\n",
        "spacy_tags_test_a = spacyTagger(tagged_document_test_a)\n",
        "spacy_tags_test_b = spacyTagger(tagged_document_test_b)"
      ]
    },
    {
      "cell_type": "code",
      "execution_count": null,
      "metadata": {
        "id": "7Pi-82S_3GR6"
      },
      "outputs": [],
      "source": [
        "# Combining 3 lists into a single file to feed Conlleval.py\n",
        "def combine_in_doc(words_unTagged, gold_tags, spacy_tags, doc_name):\n",
        "  words = words_unTagged\n",
        "  gold = gold_tags\n",
        "  pred = spacy_tags\n",
        "  # Open a file in write mode\n",
        "  with open(f\"{folder_path}/{doc_name}.txt\", \"w\") as f:\n",
        "      # Loop through the length of the lists\n",
        "      for i in range(len(words)):\n",
        "          # Combine the ith entry of each list\n",
        "          combined_entry = f\"{words[i]} {gold[i]} {pred[i]}\"\n",
        "          # Write the combined entry to the file\n",
        "          # if not i == len(list1)-1:\n",
        "          f.write(combined_entry + \"\\n\")\n",
        "          # else:\n",
        "            # f.write(combined_entry)\n",
        "  return"
      ]
    },
    {
      "cell_type": "code",
      "execution_count": null,
      "metadata": {
        "id": "CkfgXYYJ6SfR"
      },
      "outputs": [],
      "source": [
        "# The .txt files generated are fed into the conlleval.py script which computes the evaluation metrics\n",
        "combine_in_doc(train_words_unTagged, gold_tags_train, spacy_tags_train, 'trio_conlleval_train')\n",
        "combine_in_doc(test_a_words_unTagged, gold_tags_test_a, spacy_tags_test_a, 'trio_conlleval_test_a')\n",
        "combine_in_doc(test_b_words_unTagged, gold_tags_test_b, spacy_tags_test_b, 'trio_conlleval_test_b')"
      ]
    }
  ],
  "metadata": {
    "colab": {
      "provenance": []
    },
    "kernelspec": {
      "display_name": "Python 3",
      "name": "python3"
    },
    "language_info": {
      "name": "python"
    }
  },
  "nbformat": 4,
  "nbformat_minor": 0
}
